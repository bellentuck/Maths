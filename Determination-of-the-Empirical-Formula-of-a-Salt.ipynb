{
 "cells": [
  {
   "cell_type": "markdown",
   "metadata": {},
   "source": [
    "# Determination of the Empirical Formula of a Salt"
   ]
  },
  {
   "cell_type": "markdown",
   "metadata": {},
   "source": [
    "    Data:"
   ]
  },
  {
   "cell_type": "code",
   "execution_count": 8,
   "metadata": {},
   "outputs": [],
   "source": [
    "# moles of cation (10^-4)\n",
    "x = [2.00, 6.00, 10.0, 14.0, 18.0, 22.0]\n",
    "x1 = x[:4]\n",
    "x2 = x[4:]"
   ]
  },
  {
   "cell_type": "code",
   "execution_count": 11,
   "metadata": {
    "collapsed": true
   },
   "outputs": [],
   "source": [
    "# weight of product (mg)\n",
    "y = [123., 132., 134., 135., 85.0, 64.0]\n",
    "y1 = y[:4]\n",
    "y2 = y[4:]"
   ]
  },
  {
   "cell_type": "markdown",
   "metadata": {},
   "source": [
    "    Graph:"
   ]
  },
  {
   "cell_type": "code",
   "execution_count": 58,
   "metadata": {},
   "outputs": [],
   "source": [
    "from pylab import *\n",
    "# like pyplot but better\n",
    " \n",
    "from to_precision import to_precision \n",
    "# sig figs !pip install git+https://github.com/BebeSparkelSparkel/to-precision.git"
   ]
  },
  {
   "cell_type": "code",
   "execution_count": 48,
   "metadata": {},
   "outputs": [],
   "source": [
    "(m1,b1) = polyfit(x1, y1, 1)\n",
    "(m2,b2) = polyfit(x2, y2, 1)\n",
    "Y1 = polyval([m1,b1],x1)\n",
    "Y2 = polyval([m2,b2],x2)"
   ]
  },
  {
   "cell_type": "code",
   "execution_count": 55,
   "metadata": {},
   "outputs": [
    {
     "name": "stdout",
     "output_type": "stream",
     "text": [
      "Y1 = 0.950x + 123\n",
      "Y2 = -5.25x + 180.\n"
     ]
    }
   ],
   "source": [
    "print(f'Y1 = {to_precision(m1, 3, \"std\")}x + {to_precision(b1, 3, \"std\")}')\n",
    "print(f'Y2 = {to_precision(m2, 3, \"std\")}x + {to_precision(b2, 3, \"std\")}')"
   ]
  },
  {
   "cell_type": "code",
   "execution_count": 83,
   "metadata": {},
   "outputs": [],
   "source": [
    "molSolution = list(range(25))"
   ]
  },
  {
   "cell_type": "code",
   "execution_count": 84,
   "metadata": {
    "scrolled": true
   },
   "outputs": [
    {
     "data": {
      "image/png": "[encoded data removed]",
      "text/plain": [
       "<matplotlib.figure.Figure at 0x79cac2ac5978>"
      ]
     },
     "metadata": {},
     "output_type": "display_data"
    }
   ],
   "source": [
    "plot(molSolution, [m2*j + b2 for j in molSolution], color='purple')\n",
    "plot(molSolution, [m1*i + b1 for i in molSolution], color='orange')\n",
    "xlim(0, 24)\n",
    "ylim(50, 200)\n",
    "scatter(x,y)\n",
    "grid(True)\n",
    "xlabel('Mass of cation (10^-4)')\n",
    "ylabel('Weight of Product (mg)')\n",
    "title('Determination of the Empirical Formula of a Salt')\n",
    "show()"
   ]
  },
  {
   "cell_type": "code",
   "execution_count": 100,
   "metadata": {},
   "outputs": [],
   "source": [
    "molCation = (b2 - b1)/(m1 - m2)\n",
    "molOxalate = 24 - molCation\n",
    "empFormula = molCation/molOxalate"
   ]
  },
  {
   "cell_type": "markdown",
   "metadata": {},
   "source": [
    "The ratio between moles of unknown cation and moles of oxalate (`empFormula` above) is about 0.605. \n",
    "\n",
    "I.e., 1 mol cation for each .6 mol oxalate:"
   ]
  },
  {
   "cell_type": "code",
   "execution_count": 102,
   "metadata": {},
   "outputs": [
    {
     "name": "stdout",
     "output_type": "stream",
     "text": [
      "0.605177993528\n"
     ]
    }
   ],
   "source": [
    "print(empFormula)"
   ]
  },
  {
   "cell_type": "markdown",
   "metadata": {},
   "source": [
    "As 1:0.6 :: 5:3, the empirical formula qua ratio Unknown/C2O4 as determined by the preceding analysis is about 5/3."
   ]
  },
  {
   "cell_type": "code",
   "execution_count": 103,
   "metadata": {},
   "outputs": [
    {
     "name": "stdout",
     "output_type": "stream",
     "text": [
      "3.02588996764\n"
     ]
    }
   ],
   "source": [
    "print(empFormula*5)"
   ]
  }
 ],
 "metadata": {
  "kernelspec": {
   "display_name": "Python 3",
   "language": "python",
   "name": "python3"
  },
  "language_info": {
   "codemirror_mode": {
    "name": "ipython",
    "version": 3
   },
   "file_extension": ".py",
   "mimetype": "text/x-python",
   "name": "python",
   "nbconvert_exporter": "python",
   "pygments_lexer": "ipython3",
   "version": "3.6.1"
  }
 },
 "nbformat": 4,
 "nbformat_minor": 2
}
