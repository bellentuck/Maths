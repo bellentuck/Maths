{
 "cells": [
  {
   "cell_type": "code",
   "execution_count": 15,
   "metadata": {
    "collapsed": true
   },
   "outputs": [],
   "source": [
    "def divByTres(n):\n",
    "    return n % 3 == 0\n",
    "\n",
    "def divByCinco(n):\n",
    "    return n % 5 == 0\n",
    "\n",
    "def divByTresCinco(n):\n",
    "    return n % 5 == 0 and n % 3 == 0"
   ]
  },
  {
   "cell_type": "code",
   "execution_count": 20,
   "metadata": {
    "collapsed": true
   },
   "outputs": [],
   "source": [
    "listCompCracklePop = [\"CracklePop\" if divByTresCinco(i) \n",
    "                      else \"Crackle\" if divByTres(i) \n",
    "                      else \"Pop\" if divByCinco(i) \n",
    "                      else i \n",
    "                      for i in range(1,101)]"
   ]
  },
  {
   "cell_type": "code",
   "execution_count": 21,
   "metadata": {},
   "outputs": [
    {
     "data": {
      "text/plain": [
       "[1,\n",
       " 2,\n",
       " 'Crackle',\n",
       " 4,\n",
       " 'Pop',\n",
       " 'Crackle',\n",
       " 7,\n",
       " 8,\n",
       " 'Crackle',\n",
       " 'Pop',\n",
       " 11,\n",
       " 'Crackle',\n",
       " 13,\n",
       " 14,\n",
       " 'CracklePop',\n",
       " 16,\n",
       " 17,\n",
       " 'Crackle',\n",
       " 19,\n",
       " 'Pop',\n",
       " 'Crackle',\n",
       " 22,\n",
       " 23,\n",
       " 'Crackle',\n",
       " 'Pop',\n",
       " 26,\n",
       " 'Crackle',\n",
       " 28,\n",
       " 29,\n",
       " 'CracklePop',\n",
       " 31,\n",
       " 32,\n",
       " 'Crackle',\n",
       " 34,\n",
       " 'Pop',\n",
       " 'Crackle',\n",
       " 37,\n",
       " 38,\n",
       " 'Crackle',\n",
       " 'Pop',\n",
       " 41,\n",
       " 'Crackle',\n",
       " 43,\n",
       " 44,\n",
       " 'CracklePop',\n",
       " 46,\n",
       " 47,\n",
       " 'Crackle',\n",
       " 49,\n",
       " 'Pop',\n",
       " 'Crackle',\n",
       " 52,\n",
       " 53,\n",
       " 'Crackle',\n",
       " 'Pop',\n",
       " 56,\n",
       " 'Crackle',\n",
       " 58,\n",
       " 59,\n",
       " 'CracklePop',\n",
       " 61,\n",
       " 62,\n",
       " 'Crackle',\n",
       " 64,\n",
       " 'Pop',\n",
       " 'Crackle',\n",
       " 67,\n",
       " 68,\n",
       " 'Crackle',\n",
       " 'Pop',\n",
       " 71,\n",
       " 'Crackle',\n",
       " 73,\n",
       " 74,\n",
       " 'CracklePop',\n",
       " 76,\n",
       " 77,\n",
       " 'Crackle',\n",
       " 79,\n",
       " 'Pop',\n",
       " 'Crackle',\n",
       " 82,\n",
       " 83,\n",
       " 'Crackle',\n",
       " 'Pop',\n",
       " 86,\n",
       " 'Crackle',\n",
       " 88,\n",
       " 89,\n",
       " 'CracklePop',\n",
       " 91,\n",
       " 92,\n",
       " 'Crackle',\n",
       " 94,\n",
       " 'Pop',\n",
       " 'Crackle',\n",
       " 97,\n",
       " 98,\n",
       " 'Crackle',\n",
       " 'Pop']"
      ]
     },
     "execution_count": 21,
     "metadata": {},
     "output_type": "execute_result"
    }
   ],
   "source": [
    "listCompCracklePop"
   ]
  },
  {
   "cell_type": "code",
   "execution_count": null,
   "metadata": {
    "collapsed": true
   },
   "outputs": [],
   "source": []
  }
 ],
 "metadata": {
  "kernelspec": {
   "display_name": "Python 3",
   "language": "python",
   "name": "python3"
  },
  "language_info": {
   "codemirror_mode": {
    "name": "ipython",
    "version": 3
   },
   "file_extension": ".py",
   "mimetype": "text/x-python",
   "name": "python",
   "nbconvert_exporter": "python",
   "pygments_lexer": "ipython3",
   "version": "3.6.1"
  }
 },
 "nbformat": 4,
 "nbformat_minor": 2
}
