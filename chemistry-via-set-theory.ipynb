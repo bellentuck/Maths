{
 "cells": [
  {
   "cell_type": "markdown",
   "metadata": {},
   "source": [
    "### Chemistry from a Set-Theoretical Perspective\n",
    "\n",
    "When general chemistry gets incomprehensible, set theory can clarify rules."
   ]
  },
  {
   "cell_type": "code",
   "execution_count": 1,
   "metadata": {
    "collapsed": true
   },
   "outputs": [],
   "source": [
    "# Topic: Solubility"
   ]
  },
  {
   "cell_type": "code",
   "execution_count": 2,
   "metadata": {
    "collapsed": true
   },
   "outputs": [],
   "source": [
    "# Eventual: each element should bear its own data structure.\n",
    "# Now: strings."
   ]
  },
  {
   "cell_type": "code",
   "execution_count": 11,
   "metadata": {},
   "outputs": [],
   "source": [
    "# 1. Water-soluble features\n",
    "alkaliCations = { 'Li+', 'Na+', 'K+', 'Rb+', 'Cs+' }\n",
    "ammoniumCation = { 'NH4+' }\n",
    "cations = alkaliCations | ammoniumCation\n",
    "\n",
    "oxoAnions = { 'NO3-', 'C2H3O2-', 'ClO3-' }\n",
    "acidicAnions = { 'Cl-', 'Br-', 'I-' }\n",
    "sulfateAnion = { 'SO42-' }\n",
    "anions = oxoAnions | acidicAnions | sulfateAnion\n",
    "\n",
    "# 2. Water-soluble-negating features\n",
    "silverGroupCations = { 'Ag+', 'Hg22+', 'Pb2+' }\n",
    "alkalineEarthCations = { 'Ca2+', 'Sr2+', 'Ba2+' }\n",
    "\n",
    "# 3. Water-insoluble features\n",
    "\n",
    "# 4. Water-insoluble-negating features"
   ]
  },
  {
   "cell_type": "code",
   "execution_count": 10,
   "metadata": {},
   "outputs": [
    {
     "data": {
      "text/plain": [
       "set()"
      ]
     },
     "execution_count": 10,
     "metadata": {},
     "output_type": "execute_result"
    }
   ],
   "source": [
    "def isWaterSoluble(empiricalFormula):\n",
    "    if empForm contains member of 3 & ~4, insoluble;\n",
    "    if empForm contains member of 1 & ~2, soluble; else, insoluble"
   ]
  },
  {
   "cell_type": "code",
   "execution_count": null,
   "metadata": {
    "collapsed": true
   },
   "outputs": [],
   "source": []
  }
 ],
 "metadata": {
  "kernelspec": {
   "display_name": "Python 3",
   "language": "python",
   "name": "python3"
  },
  "language_info": {
   "codemirror_mode": {
    "name": "ipython",
    "version": 3
   },
   "file_extension": ".py",
   "mimetype": "text/x-python",
   "name": "python",
   "nbconvert_exporter": "python",
   "pygments_lexer": "ipython3",
   "version": "3.6.1"
  }
 },
 "nbformat": 4,
 "nbformat_minor": 2
}
